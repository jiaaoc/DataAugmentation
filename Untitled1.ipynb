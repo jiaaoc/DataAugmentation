{
 "cells": [
  {
   "cell_type": "code",
   "execution_count": 1,
   "metadata": {
    "scrolled": true
   },
   "outputs": [
    {
     "name": "stdout",
     "output_type": "stream",
     "text": [
      "[nltk_data] Downloading package stopwords to\n",
      "[nltk_data]     /nethome/jchen896/nltk_data...\n",
      "[nltk_data]   Package stopwords is already up-to-date!\n",
      "[nltk_data] Downloading package punkt to\n",
      "[nltk_data]     /nethome/jchen896/nltk_data...\n",
      "[nltk_data]   Package punkt is already up-to-date!\n",
      "[nltk_data] Downloading package wordnet to\n",
      "[nltk_data]     /nethome/jchen896/nltk_data...\n",
      "[nltk_data]   Package wordnet is already up-to-date!\n",
      "[nltk_data] Downloading package words to\n",
      "[nltk_data]     /nethome/jchen896/nltk_data...\n",
      "[nltk_data]   Package words is already up-to-date!\n",
      "/home/jchen896/cutoff/transformers/src/transformers/models/auto/modeling_auto.py:850: FutureWarning: The class `AutoModelWithLMHead` is deprecated and will be removed in a future version. Please use `AutoModelForCausalLM` for causal language models, `AutoModelForMaskedLM` for masked language models and `AutoModelForSeq2SeqLM` for encoder-decoder models.\n",
      "  warnings.warn(\n",
      "Some weights of the model checkpoint at bert-base-uncased were not used when initializing BertForMaskedLM: ['cls.seq_relationship.weight', 'cls.seq_relationship.bias']\n",
      "- This IS expected if you are initializing BertForMaskedLM from the checkpoint of a model trained on another task or with another architecture (e.g. initializing a BertForSequenceClassification model from a BertForPreTraining model).\n",
      "- This IS NOT expected if you are initializing BertForMaskedLM from the checkpoint of a model that you expect to be exactly identical (initializing a BertForSequenceClassification model from a BertForSequenceClassification model).\n",
      "Iteration::   3%| | 45206/1400000 [44:44<22:20:44,\n",
      "Traceback (most recent call last):\n",
      "  File \"/nethome/jchen896/anaconda3/lib/python3.8/runpy.py\", line 194, in _run_module_as_main\n",
      "    return _run_code(code, main_globals, None,\n",
      "  File \"/nethome/jchen896/anaconda3/lib/python3.8/runpy.py\", line 87, in _run_code\n",
      "    exec(code, run_globals)\n",
      "  File \"/home/jchen896/DataAugmentation/data/mlm_pred.py\", line 145, in <module>\n",
      "    all_mlm_pred(args.datapath, device)\n",
      "  File \"/home/jchen896/DataAugmentation/data/mlm_pred.py\", line 115, in all_mlm_pred\n",
      "    new_text = augment_single_text_mlm_flip(model, tokenizer, stop_words, 0.1, 1, 2, text)\n",
      "  File \"/home/jchen896/DataAugmentation/data/mlm_pred.py\", line 92, in augment_single_text_mlm_flip\n",
      "    agmnt_list_wrds[idx] = num_syn_pred_wrds[i][cur_pred_wrd_idx]\n",
      "IndexError: index 1 is out of bounds for axis 0 with size 1\n"
     ]
    }
   ],
   "source": [
    "!CUDA_VISIBLE_DEVICES=2 python -m data.mlm_pred -d ./processed_data/yahoo_answers_csv"
   ]
  },
  {
   "cell_type": "code",
   "execution_count": null,
   "metadata": {},
   "outputs": [],
   "source": []
  }
 ],
 "metadata": {
  "kernelspec": {
   "display_name": "Python 3",
   "language": "python",
   "name": "python3"
  },
  "language_info": {
   "codemirror_mode": {
    "name": "ipython",
    "version": 3
   },
   "file_extension": ".py",
   "mimetype": "text/x-python",
   "name": "python",
   "nbconvert_exporter": "python",
   "pygments_lexer": "ipython3",
   "version": "3.8.3"
  }
 },
 "nbformat": 4,
 "nbformat_minor": 4
}
